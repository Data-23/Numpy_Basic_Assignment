{
 "cells": [
  {
   "cell_type": "code",
   "execution_count": 2,
   "id": "74e88f79",
   "metadata": {},
   "outputs": [],
   "source": [
    "import numpy as np\n",
    "list_ = [ '1','2','3','4','5' ]\n",
    "array_list = np.array(object = list_)"
   ]
  },
  {
   "cell_type": "code",
   "execution_count": 3,
   "id": "e9d1e1d4",
   "metadata": {},
   "outputs": [
    {
     "data": {
      "text/plain": [
       "array(['1', '2', '3', '4', '5'], dtype='<U1')"
      ]
     },
     "execution_count": 3,
     "metadata": {},
     "output_type": "execute_result"
    }
   ],
   "source": [
    "array_list"
   ]
  },
  {
   "cell_type": "code",
   "execution_count": null,
   "id": "3103001d",
   "metadata": {},
   "outputs": [],
   "source": [
    "#Q2"
   ]
  },
  {
   "cell_type": "code",
   "execution_count": 9,
   "id": "ff2d4670",
   "metadata": {},
   "outputs": [
    {
     "data": {
      "text/plain": [
       "dtype('<U1')"
      ]
     },
     "execution_count": 9,
     "metadata": {},
     "output_type": "execute_result"
    }
   ],
   "source": [
    "array_list.dtype"
   ]
  },
  {
   "cell_type": "code",
   "execution_count": 11,
   "id": "2fa686c0",
   "metadata": {},
   "outputs": [
    {
     "data": {
      "text/plain": [
       "list"
      ]
     },
     "execution_count": 11,
     "metadata": {},
     "output_type": "execute_result"
    }
   ],
   "source": [
    "type(list_)"
   ]
  },
  {
   "cell_type": "code",
   "execution_count": null,
   "id": "5f042dcf",
   "metadata": {},
   "outputs": [],
   "source": []
  },
  {
   "cell_type": "code",
   "execution_count": null,
   "id": "e2e88bd8",
   "metadata": {},
   "outputs": [],
   "source": [
    "#Q1"
   ]
  },
  {
   "cell_type": "code",
   "execution_count": null,
   "id": "1c75dd39",
   "metadata": {},
   "outputs": [],
   "source": [
    "# Yes, there is a difference in the data type of the \n",
    "# list_ variable and the array_list variable. The list_ variable is a Python list containing string elements, while the array_list \n",
    "# variable is a NumPy array created from that list."
   ]
  },
  {
   "cell_type": "code",
   "execution_count": null,
   "id": "44082656",
   "metadata": {},
   "outputs": [],
   "source": []
  },
  {
   "cell_type": "code",
   "execution_count": null,
   "id": "40280ddd",
   "metadata": {},
   "outputs": [],
   "source": [
    "#Q3"
   ]
  },
  {
   "cell_type": "code",
   "execution_count": null,
   "id": "73247b85",
   "metadata": {},
   "outputs": [],
   "source": [
    "# Yes, there will be a difference in the data types of the elements present in both the variables list_ and array_list. \n",
    "#When you create array_list with the dtype=int parameter, NumPy will attempt to convert the elements of the list to integers.\n"
   ]
  },
  {
   "cell_type": "code",
   "execution_count": 12,
   "id": "93c25307",
   "metadata": {},
   "outputs": [],
   "source": [
    "array_list = np.array(object = list_, dtype = int)"
   ]
  },
  {
   "cell_type": "code",
   "execution_count": 15,
   "id": "4f4c6dd1",
   "metadata": {},
   "outputs": [
    {
     "name": "stdout",
     "output_type": "stream",
     "text": [
      "<class 'list'>\n",
      "<class 'list'>\n",
      "<class 'list'>\n",
      "<class 'list'>\n",
      "<class 'list'>\n",
      "<class 'numpy.int32'>\n",
      "<class 'numpy.int32'>\n",
      "<class 'numpy.int32'>\n",
      "<class 'numpy.int32'>\n",
      "<class 'numpy.int32'>\n"
     ]
    }
   ],
   "source": [
    "for i in list_:\n",
    "    print(type(list_))\n",
    "\n",
    "for i in array_list:\n",
    "    print(type(i))\n"
   ]
  },
  {
   "cell_type": "code",
   "execution_count": null,
   "id": "601ecbe1",
   "metadata": {},
   "outputs": [],
   "source": [
    "#Q5"
   ]
  },
  {
   "cell_type": "code",
   "execution_count": 16,
   "id": "41e30c3f",
   "metadata": {},
   "outputs": [],
   "source": [
    "import numpy as np\n",
    "num_list = [ [ 1 , 2 , 3 ] , [ 4 , 5 , 6 ] ]\n",
    "num_array = np.array(object = num_list)"
   ]
  },
  {
   "cell_type": "code",
   "execution_count": 19,
   "id": "aac85349",
   "metadata": {},
   "outputs": [
    {
     "name": "stdout",
     "output_type": "stream",
     "text": [
      "(2, 3)\n",
      "6\n"
     ]
    }
   ],
   "source": [
    "print(np.shape(num_array))\n",
    "print(np.size(num_array))"
   ]
  },
  {
   "cell_type": "code",
   "execution_count": 21,
   "id": "a3931e3c",
   "metadata": {},
   "outputs": [
    {
     "data": {
      "text/plain": [
       "2"
      ]
     },
     "execution_count": 21,
     "metadata": {},
     "output_type": "execute_result"
    }
   ],
   "source": [
    "len(num_list)"
   ]
  },
  {
   "cell_type": "code",
   "execution_count": 22,
   "id": "cde8e7d5",
   "metadata": {},
   "outputs": [
    {
     "name": "stdout",
     "output_type": "stream",
     "text": [
      "Shape of the list: (2, 3)\n",
      "Size of the list: 6\n"
     ]
    }
   ],
   "source": [
    "def get_shape_and_size(lst):\n",
    "    \"\"\"\n",
    "    Returns the shape and size of a nested list.\n",
    "    \n",
    "    Parameters:\n",
    "    lst (list): The nested list.\n",
    "    \n",
    "    Returns:\n",
    "    tuple: A tuple containing the shape and size of the nested list.\n",
    "    \"\"\"\n",
    "    if isinstance(lst, list):\n",
    "        # Get the length of the outer list (number of rows)\n",
    "        num_rows = len(lst)\n",
    "        \n",
    "        # Get the length of the first sublist (assuming all sublists have the same length)\n",
    "        if num_rows > 0:\n",
    "            num_cols = len(lst[0])\n",
    "        else:\n",
    "            num_cols = 0\n",
    "        \n",
    "        return (num_rows, num_cols), num_rows * num_cols\n",
    "    else:\n",
    "        return (0, 0), 0\n",
    "\n",
    "# Example\n",
    "num_list = [[1, 2, 3], [4, 5, 6]]\n",
    "shape, size = get_shape_and_size(num_list)\n",
    "\n",
    "print(\"Shape of the list:\", shape)\n",
    "print(\"Size of the list:\", size)"
   ]
  },
  {
   "cell_type": "code",
   "execution_count": null,
   "id": "edbd3229",
   "metadata": {},
   "outputs": [],
   "source": [
    "## Q5"
   ]
  },
  {
   "cell_type": "code",
   "execution_count": 34,
   "id": "a3b811a6",
   "metadata": {},
   "outputs": [],
   "source": [
    "ar5 = np.zeros((5,5))"
   ]
  },
  {
   "cell_type": "code",
   "execution_count": 35,
   "id": "1a9b29d2",
   "metadata": {},
   "outputs": [
    {
     "data": {
      "text/plain": [
       "array([[0., 0., 0., 0., 0.],\n",
       "       [0., 0., 0., 0., 0.],\n",
       "       [0., 0., 0., 0., 0.],\n",
       "       [0., 0., 0., 0., 0.],\n",
       "       [0., 0., 0., 0., 0.]])"
      ]
     },
     "execution_count": 35,
     "metadata": {},
     "output_type": "execute_result"
    }
   ],
   "source": [
    "ar5"
   ]
  },
  {
   "cell_type": "code",
   "execution_count": null,
   "id": "b6083918",
   "metadata": {},
   "outputs": [],
   "source": [
    "##Q6"
   ]
  },
  {
   "cell_type": "code",
   "execution_count": 36,
   "id": "ee38a1e6",
   "metadata": {},
   "outputs": [
    {
     "data": {
      "text/plain": [
       "array([[1., 0., 0., 0., 0.],\n",
       "       [0., 1., 0., 0., 0.],\n",
       "       [0., 0., 1., 0., 0.],\n",
       "       [0., 0., 0., 1., 0.],\n",
       "       [0., 0., 0., 0., 1.]])"
      ]
     },
     "execution_count": 36,
     "metadata": {},
     "output_type": "execute_result"
    }
   ],
   "source": [
    "ar6 = np.eye(5)\n",
    "ar6"
   ]
  },
  {
   "cell_type": "code",
   "execution_count": null,
   "id": "4d23edcb",
   "metadata": {},
   "outputs": [],
   "source": []
  },
  {
   "cell_type": "code",
   "execution_count": null,
   "id": "26e81dd0",
   "metadata": {},
   "outputs": [],
   "source": []
  }
 ],
 "metadata": {
  "kernelspec": {
   "display_name": "Python 3",
   "language": "python",
   "name": "python3"
  },
  "language_info": {
   "codemirror_mode": {
    "name": "ipython",
    "version": 3
   },
   "file_extension": ".py",
   "mimetype": "text/x-python",
   "name": "python",
   "nbconvert_exporter": "python",
   "pygments_lexer": "ipython3",
   "version": "3.11.3"
  }
 },
 "nbformat": 4,
 "nbformat_minor": 5
}
